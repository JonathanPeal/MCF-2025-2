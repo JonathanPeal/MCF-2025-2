{
 "cells": [
  {
   "cell_type": "code",
   "execution_count": 1,
   "metadata": {},
   "outputs": [
    {
     "name": "stderr",
     "output_type": "stream",
     "text": [
      "/Users/jonathanpena/anaconda3/envs/workShop/lib/python3.11/site-packages/pandas/core/arrays/masked.py:60: UserWarning: Pandas requires version '1.3.6' or newer of 'bottleneck' (version '1.3.5' currently installed).\n",
      "  from pandas.core import (\n"
     ]
    }
   ],
   "source": [
    "import pandas as pd\n",
    "import matplotlib.pyplot as plt\n",
    "import Funciones_MCF as MCF\n",
    "from scipy.stats import kurtosis, skew"
   ]
  },
  {
   "cell_type": "code",
   "execution_count": 2,
   "metadata": {},
   "outputs": [
    {
     "name": "stdout",
     "output_type": "stream",
     "text": [
      "YF.download() has changed argument auto_adjust default to True\n"
     ]
    },
    {
     "name": "stderr",
     "output_type": "stream",
     "text": [
      "[*********************100%***********************]  4 of 4 completed\n"
     ]
    },
    {
     "data": {
      "text/html": [
       "<div>\n",
       "<style scoped>\n",
       "    .dataframe tbody tr th:only-of-type {\n",
       "        vertical-align: middle;\n",
       "    }\n",
       "\n",
       "    .dataframe tbody tr th {\n",
       "        vertical-align: top;\n",
       "    }\n",
       "\n",
       "    .dataframe thead th {\n",
       "        text-align: right;\n",
       "    }\n",
       "</style>\n",
       "<table border=\"1\" class=\"dataframe\">\n",
       "  <thead>\n",
       "    <tr style=\"text-align: right;\">\n",
       "      <th>Ticker</th>\n",
       "      <th>AAPL</th>\n",
       "      <th>MSFT</th>\n",
       "      <th>NVDA</th>\n",
       "      <th>TSLA</th>\n",
       "    </tr>\n",
       "    <tr>\n",
       "      <th>Date</th>\n",
       "      <th></th>\n",
       "      <th></th>\n",
       "      <th></th>\n",
       "      <th></th>\n",
       "    </tr>\n",
       "  </thead>\n",
       "  <tbody>\n",
       "    <tr>\n",
       "      <th>2024-03-06</th>\n",
       "      <td>168.325180</td>\n",
       "      <td>399.043457</td>\n",
       "      <td>88.679016</td>\n",
       "      <td>176.539993</td>\n",
       "    </tr>\n",
       "    <tr>\n",
       "      <th>2024-03-07</th>\n",
       "      <td>168.205750</td>\n",
       "      <td>406.040070</td>\n",
       "      <td>92.647072</td>\n",
       "      <td>178.649994</td>\n",
       "    </tr>\n",
       "    <tr>\n",
       "      <th>2024-03-08</th>\n",
       "      <td>169.927628</td>\n",
       "      <td>403.142151</td>\n",
       "      <td>87.507301</td>\n",
       "      <td>175.339996</td>\n",
       "    </tr>\n",
       "    <tr>\n",
       "      <th>2024-03-11</th>\n",
       "      <td>171.938126</td>\n",
       "      <td>401.455048</td>\n",
       "      <td>85.753708</td>\n",
       "      <td>177.770004</td>\n",
       "    </tr>\n",
       "    <tr>\n",
       "      <th>2024-03-12</th>\n",
       "      <td>172.415878</td>\n",
       "      <td>412.133484</td>\n",
       "      <td>91.891266</td>\n",
       "      <td>177.539993</td>\n",
       "    </tr>\n",
       "    <tr>\n",
       "      <th>...</th>\n",
       "      <td>...</td>\n",
       "      <td>...</td>\n",
       "      <td>...</td>\n",
       "      <td>...</td>\n",
       "    </tr>\n",
       "    <tr>\n",
       "      <th>2025-02-27</th>\n",
       "      <td>237.300003</td>\n",
       "      <td>392.529999</td>\n",
       "      <td>120.150002</td>\n",
       "      <td>281.950012</td>\n",
       "    </tr>\n",
       "    <tr>\n",
       "      <th>2025-02-28</th>\n",
       "      <td>241.839996</td>\n",
       "      <td>396.989990</td>\n",
       "      <td>124.919998</td>\n",
       "      <td>292.980011</td>\n",
       "    </tr>\n",
       "    <tr>\n",
       "      <th>2025-03-03</th>\n",
       "      <td>238.029999</td>\n",
       "      <td>388.489990</td>\n",
       "      <td>114.059998</td>\n",
       "      <td>284.649994</td>\n",
       "    </tr>\n",
       "    <tr>\n",
       "      <th>2025-03-04</th>\n",
       "      <td>235.929993</td>\n",
       "      <td>388.609985</td>\n",
       "      <td>115.989998</td>\n",
       "      <td>272.040009</td>\n",
       "    </tr>\n",
       "    <tr>\n",
       "      <th>2025-03-05</th>\n",
       "      <td>235.740005</td>\n",
       "      <td>401.019989</td>\n",
       "      <td>117.300003</td>\n",
       "      <td>279.100006</td>\n",
       "    </tr>\n",
       "  </tbody>\n",
       "</table>\n",
       "<p>250 rows × 4 columns</p>\n",
       "</div>"
      ],
      "text/plain": [
       "Ticker            AAPL        MSFT        NVDA        TSLA\n",
       "Date                                                      \n",
       "2024-03-06  168.325180  399.043457   88.679016  176.539993\n",
       "2024-03-07  168.205750  406.040070   92.647072  178.649994\n",
       "2024-03-08  169.927628  403.142151   87.507301  175.339996\n",
       "2024-03-11  171.938126  401.455048   85.753708  177.770004\n",
       "2024-03-12  172.415878  412.133484   91.891266  177.539993\n",
       "...                ...         ...         ...         ...\n",
       "2025-02-27  237.300003  392.529999  120.150002  281.950012\n",
       "2025-02-28  241.839996  396.989990  124.919998  292.980011\n",
       "2025-03-03  238.029999  388.489990  114.059998  284.649994\n",
       "2025-03-04  235.929993  388.609985  115.989998  272.040009\n",
       "2025-03-05  235.740005  401.019989  117.300003  279.100006\n",
       "\n",
       "[250 rows x 4 columns]"
      ]
     },
     "execution_count": 2,
     "metadata": {},
     "output_type": "execute_result"
    }
   ],
   "source": [
    "M7 = ['AAPL','MSFT','NVDA','TSLA']\n",
    "\n",
    "\n",
    "df_precios = MCF.obtener_datos(M7)\n",
    "df_precios"
   ]
  },
  {
   "cell_type": "code",
   "execution_count": 3,
   "metadata": {},
   "outputs": [
    {
     "data": {
      "text/html": [
       "<div>\n",
       "<style scoped>\n",
       "    .dataframe tbody tr th:only-of-type {\n",
       "        vertical-align: middle;\n",
       "    }\n",
       "\n",
       "    .dataframe tbody tr th {\n",
       "        vertical-align: top;\n",
       "    }\n",
       "\n",
       "    .dataframe thead th {\n",
       "        text-align: right;\n",
       "    }\n",
       "</style>\n",
       "<table border=\"1\" class=\"dataframe\">\n",
       "  <thead>\n",
       "    <tr style=\"text-align: right;\">\n",
       "      <th>Ticker</th>\n",
       "      <th>AAPL</th>\n",
       "      <th>MSFT</th>\n",
       "      <th>NVDA</th>\n",
       "      <th>TSLA</th>\n",
       "    </tr>\n",
       "    <tr>\n",
       "      <th>Date</th>\n",
       "      <th></th>\n",
       "      <th></th>\n",
       "      <th></th>\n",
       "      <th></th>\n",
       "    </tr>\n",
       "  </thead>\n",
       "  <tbody>\n",
       "    <tr>\n",
       "      <th>2024-03-07</th>\n",
       "      <td>-0.000710</td>\n",
       "      <td>0.017533</td>\n",
       "      <td>0.044746</td>\n",
       "      <td>0.011952</td>\n",
       "    </tr>\n",
       "    <tr>\n",
       "      <th>2024-03-08</th>\n",
       "      <td>0.010237</td>\n",
       "      <td>-0.007137</td>\n",
       "      <td>-0.055477</td>\n",
       "      <td>-0.018528</td>\n",
       "    </tr>\n",
       "    <tr>\n",
       "      <th>2024-03-11</th>\n",
       "      <td>0.011831</td>\n",
       "      <td>-0.004185</td>\n",
       "      <td>-0.020039</td>\n",
       "      <td>0.013859</td>\n",
       "    </tr>\n",
       "    <tr>\n",
       "      <th>2024-03-12</th>\n",
       "      <td>0.002779</td>\n",
       "      <td>0.026599</td>\n",
       "      <td>0.071572</td>\n",
       "      <td>-0.001294</td>\n",
       "    </tr>\n",
       "    <tr>\n",
       "      <th>2024-03-13</th>\n",
       "      <td>-0.012122</td>\n",
       "      <td>-0.000433</td>\n",
       "      <td>-0.011152</td>\n",
       "      <td>-0.045398</td>\n",
       "    </tr>\n",
       "    <tr>\n",
       "      <th>...</th>\n",
       "      <td>...</td>\n",
       "      <td>...</td>\n",
       "      <td>...</td>\n",
       "      <td>...</td>\n",
       "    </tr>\n",
       "    <tr>\n",
       "      <th>2025-02-27</th>\n",
       "      <td>-0.012731</td>\n",
       "      <td>-0.018012</td>\n",
       "      <td>-0.084781</td>\n",
       "      <td>-0.030433</td>\n",
       "    </tr>\n",
       "    <tr>\n",
       "      <th>2025-02-28</th>\n",
       "      <td>0.019132</td>\n",
       "      <td>0.011362</td>\n",
       "      <td>0.039700</td>\n",
       "      <td>0.039120</td>\n",
       "    </tr>\n",
       "    <tr>\n",
       "      <th>2025-03-03</th>\n",
       "      <td>-0.015754</td>\n",
       "      <td>-0.021411</td>\n",
       "      <td>-0.086936</td>\n",
       "      <td>-0.028432</td>\n",
       "    </tr>\n",
       "    <tr>\n",
       "      <th>2025-03-04</th>\n",
       "      <td>-0.008822</td>\n",
       "      <td>0.000309</td>\n",
       "      <td>0.016921</td>\n",
       "      <td>-0.044300</td>\n",
       "    </tr>\n",
       "    <tr>\n",
       "      <th>2025-03-05</th>\n",
       "      <td>-0.000805</td>\n",
       "      <td>0.031934</td>\n",
       "      <td>0.011294</td>\n",
       "      <td>0.025952</td>\n",
       "    </tr>\n",
       "  </tbody>\n",
       "</table>\n",
       "<p>249 rows × 4 columns</p>\n",
       "</div>"
      ],
      "text/plain": [
       "Ticker          AAPL      MSFT      NVDA      TSLA\n",
       "Date                                              \n",
       "2024-03-07 -0.000710  0.017533  0.044746  0.011952\n",
       "2024-03-08  0.010237 -0.007137 -0.055477 -0.018528\n",
       "2024-03-11  0.011831 -0.004185 -0.020039  0.013859\n",
       "2024-03-12  0.002779  0.026599  0.071572 -0.001294\n",
       "2024-03-13 -0.012122 -0.000433 -0.011152 -0.045398\n",
       "...              ...       ...       ...       ...\n",
       "2025-02-27 -0.012731 -0.018012 -0.084781 -0.030433\n",
       "2025-02-28  0.019132  0.011362  0.039700  0.039120\n",
       "2025-03-03 -0.015754 -0.021411 -0.086936 -0.028432\n",
       "2025-03-04 -0.008822  0.000309  0.016921 -0.044300\n",
       "2025-03-05 -0.000805  0.031934  0.011294  0.025952\n",
       "\n",
       "[249 rows x 4 columns]"
      ]
     },
     "execution_count": 3,
     "metadata": {},
     "output_type": "execute_result"
    }
   ],
   "source": [
    "df_rendimientos = MCF.calcular_rendimientos(df_precios)\n",
    "df_rendimientos"
   ]
  },
  {
   "cell_type": "code",
   "execution_count": 4,
   "metadata": {},
   "outputs": [
    {
     "data": {
      "text/plain": [
       "0.0014657776612697613"
      ]
     },
     "execution_count": 4,
     "metadata": {},
     "output_type": "execute_result"
    }
   ],
   "source": [
    "promedio_rendi_diario = df_rendimientos['AAPL'].mean()\n",
    "promedio_rendi_diario\n"
   ]
  },
  {
   "cell_type": "code",
   "execution_count": 5,
   "metadata": {},
   "outputs": [
    {
     "data": {
      "text/plain": [
       "2.8457020864737634"
      ]
     },
     "execution_count": 5,
     "metadata": {},
     "output_type": "execute_result"
    }
   ],
   "source": [
    "kurtosis = kurtosis(df_rendimientos['AAPL'])\n",
    "skew = skew(df_rendimientos['AAPL'])\n",
    "kurtosis"
   ]
  }
 ],
 "metadata": {
  "kernelspec": {
   "display_name": "workShop",
   "language": "python",
   "name": "python3"
  },
  "language_info": {
   "codemirror_mode": {
    "name": "ipython",
    "version": 3
   },
   "file_extension": ".py",
   "mimetype": "text/x-python",
   "name": "python",
   "nbconvert_exporter": "python",
   "pygments_lexer": "ipython3",
   "version": "3.11.4"
  }
 },
 "nbformat": 4,
 "nbformat_minor": 2
}
